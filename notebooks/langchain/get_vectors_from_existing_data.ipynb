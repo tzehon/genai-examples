{
 "cells": [
  {
   "cell_type": "code",
   "execution_count": null,
   "metadata": {},
   "outputs": [],
   "source": [
    "# Shows how to get embeddings for existing data in documents and search across.\n",
    "\n",
    "import getpass\n",
    "import os\n",
    "\n",
    "os.environ[\"OPENAI_API_KEY\"] = getpass.getpass(\"OpenAI API Key:\")"
   ]
  },
  {
   "cell_type": "code",
   "execution_count": null,
   "metadata": {},
   "outputs": [],
   "source": [
    "%pip install --upgrade --quiet langchain langchain-community langchain-mongodb pymongo langchain-openai openai"
   ]
  },
  {
   "cell_type": "code",
   "execution_count": null,
   "metadata": {},
   "outputs": [],
   "source": [
    "import getpass\n",
    "\n",
    "MONGODB_ATLAS_CLUSTER_URI = getpass.getpass(\"MongoDB Atlas Cluster URI:\")"
   ]
  },
  {
   "cell_type": "code",
   "execution_count": null,
   "metadata": {},
   "outputs": [],
   "source": [
    "from pymongo import MongoClient\n",
    "from langchain.vectorstores import MongoDBAtlasVectorSearch\n",
    "from langchain_openai import OpenAIEmbeddings\n",
    "from langchain_community.chat_models import ChatOpenAI\n",
    "from langchain.prompts import ChatPromptTemplate\n",
    "from langchain.chains import LLMChain\n",
    "\n",
    "DB_NAME = \"sample_mflix\"\n",
    "COLLECTION_NAME = \"movies_xyz\"\n",
    "ATLAS_VECTOR_SEARCH_INDEX_NAME = \"fullplot_embedding_index\"\n",
    "EMBEDDING_KEY = \"fullplot_embedding\"\n",
    "TEXT_KEY = \"fullplot\"\n",
    "\n",
    "client = MongoClient(MONGODB_ATLAS_CLUSTER_URI)\n",
    "db = client[DB_NAME]\n",
    "collection = db[COLLECTION_NAME]"
   ]
  },
  {
   "cell_type": "code",
   "execution_count": null,
   "metadata": {},
   "outputs": [],
   "source": [
    "def get_openai_embedding(text):\n",
    "    embed_model = OpenAIEmbeddings(model=\"text-embedding-ada-002\",)\n",
    "    embeddings = embed_model.embed_query(text)\n",
    "    return embeddings\n",
    "\n",
    "# Update documents without plot embeddings\n",
    "for doc in collection.find({EMBEDDING_KEY: {\"$exists\": False}}):\n",
    "    plot_text = doc[TEXT_KEY]\n",
    "    embedding = get_openai_embedding(plot_text)\n",
    "    collection.update_one({\"_id\": doc[\"_id\"]}, {\"$set\": {EMBEDDING_KEY: embedding}})\n"
   ]
  },
  {
   "cell_type": "code",
   "execution_count": null,
   "metadata": {},
   "outputs": [],
   "source": [
    "from pymongo.operations import SearchIndexModel\n",
    "\n",
    "# Create your index model, then create the search index\n",
    "search_index_model = SearchIndexModel(\n",
    "  definition={\n",
    "    \"fields\": [\n",
    "      {\n",
    "        \"type\": \"vector\",\n",
    "        \"numDimensions\": 1536,\n",
    "        \"path\": EMBEDDING_KEY,\n",
    "        \"similarity\": \"cosine\"\n",
    "      }\n",
    "    ]\n",
    "  },\n",
    "  name=ATLAS_VECTOR_SEARCH_INDEX_NAME,\n",
    "  type=\"vectorSearch\",\n",
    ")\n",
    "\n",
    "result = collection.create_search_index(model=search_index_model)\n",
    "print(result)\n",
    "print(\"Wait until index creation is complete before proceeding.\")"
   ]
  },
  {
   "cell_type": "code",
   "execution_count": null,
   "metadata": {},
   "outputs": [],
   "source": [
    "vector_search = MongoDBAtlasVectorSearch.from_connection_string(\n",
    "    connection_string = MONGODB_ATLAS_CLUSTER_URI,\n",
    "    namespace = DB_NAME + \".\" + COLLECTION_NAME,\n",
    "    embedding = OpenAIEmbeddings(model=\"text-embedding-ada-002\", disallowed_special=()),\n",
    "    embedding_key = EMBEDDING_KEY,\n",
    "    text_key = TEXT_KEY,\n",
    "    index_name=ATLAS_VECTOR_SEARCH_INDEX_NAME,\n",
    ")"
   ]
  },
  {
   "cell_type": "code",
   "execution_count": null,
   "metadata": {},
   "outputs": [],
   "source": [
    "# Perform a similarity search between the embedding of the query and the embeddings of the documents\n",
    "import pprint\n",
    "\n",
    "query = \"I like sci-fi, recommend me some movies that are like that\"\n",
    "docs_with_score = vector_search.similarity_search_with_score(query)\n",
    "\n",
    "# print(len(docs_with_score))\n",
    "pprint.pp(docs_with_score)"
   ]
  },
  {
   "cell_type": "code",
   "execution_count": null,
   "metadata": {},
   "outputs": [],
   "source": [
    "llm = ChatOpenAI(model=\"gpt-4o\", openai_api_key=os.environ['OPENAI_API_KEY'])\n",
    "\n",
    "prompt_template = ChatPromptTemplate.from_messages([\n",
    "    (\"system\", \"You are a movie recommendation engine which posts a concise and short summary on relevant movies.\"),\n",
    "    (\"user\", \"List of movies: {input}\")\n",
    "])\n",
    "\n",
    "# Create an LLMChain\n",
    "chain = LLMChain(\n",
    "    llm=llm,\n",
    "    prompt=prompt_template\n",
    ")\n",
    "\n",
    "# Prepare the input for the chat model\n",
    "input_docs = \"\\n\".join([doc.page_content for doc, _ in docs_with_score])\n",
    "# pprint.pp(input_docs)\n",
    "\n",
    "# Invoke the chain with the input documents\n",
    "response = chain.invoke({\"input\": input_docs})\n",
    "# print(response['text'])\n",
    "pprint.pp(response['text'])\n"
   ]
  }
 ],
 "metadata": {
  "kernelspec": {
   "display_name": "Python 3",
   "language": "python",
   "name": "python3"
  },
  "language_info": {
   "codemirror_mode": {
    "name": "ipython",
    "version": 3
   },
   "file_extension": ".py",
   "mimetype": "text/x-python",
   "name": "python",
   "nbconvert_exporter": "python",
   "pygments_lexer": "ipython3",
   "version": "3.11.8"
  }
 },
 "nbformat": 4,
 "nbformat_minor": 2
}
