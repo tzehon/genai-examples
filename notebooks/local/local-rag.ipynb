{
 "cells": [
  {
   "cell_type": "markdown",
   "metadata": {},
   "source": [
    "# Atlas Vector Search - Local Retrieval-Augmented Generation (RAG)"
   ]
  },
  {
   "cell_type": "markdown",
   "metadata": {},
   "source": [
    "This notebook is a companion to the [Local Retrieval-Augmented Generation (RAG)](https://www.mongodb.com/docs/atlas/atlas-vector-search/tutorials/local-rag/) page. Refer to the page for set-up instructions and detailed explanations.\n",
    "\n",
    "This notebook takes you a RAG implementation with Atlas Vector Search that you can run **completely locally** by using models from Hugging Face and GPT4All.\n",
    "\n",
    "<a target=\"_blank\" href=\"https://colab.research.google.com/github/mongodb/docs-notebooks/blob/main/use-cases/local-rag.ipynb\">\n",
    "  <img src=\"https://colab.research.google.com/assets/colab-badge.svg\" alt=\"Open In Colab\"/>\n",
    "</a>"
   ]
  },
  {
   "cell_type": "code",
   "execution_count": null,
   "metadata": {
    "vscode": {
     "languageId": "shellscript"
    }
   },
   "outputs": [],
   "source": [
    "pip install --quiet --upgrade pymongo gpt4all sentence_transformers"
   ]
  },
  {
   "cell_type": "code",
   "execution_count": null,
   "metadata": {},
   "outputs": [],
   "source": [
    "ATLAS_CONNECTION_STRING = (\"\")\n",
    "# Use \"mongodb://localhost:<port-number>/?directConnection=true\" for local Atlas deployments"
   ]
  },
  {
   "cell_type": "code",
   "execution_count": null,
   "metadata": {},
   "outputs": [],
   "source": [
    "from pymongo import MongoClient\n",
    "from sentence_transformers import SentenceTransformer\n",
    "\n",
    "# Connect to your local Atlas deployment or Atlas Cluster\n",
    "client = MongoClient(ATLAS_CONNECTION_STRING)\n",
    "\n",
    "# Select the sample_airbnb.listingsAndReviews collection\n",
    "collection = client[\"sample_airbnb\"][\"listingsAndReviews\"]\n",
    "\n",
    "# Load the embedding model (https://huggingface.co/sentence-transformers/mixedbread-ai/mxbai-embed-large-v1)\n",
    "model_path = \"\"\n",
    "model = SentenceTransformer('mixedbread-ai/mxbai-embed-large-v1')\n",
    "model.save(model_path)\n",
    "model = SentenceTransformer(model_path)\n",
    "\n",
    "# Define function to generate embeddings\n",
    "def get_embedding(text):\n",
    "    return model.encode(text).tolist()\n",
    "\n",
    "# Filters for only documents with a summary field and without an embeddings field\n",
    "filter = { '$and': [ { 'summary': { '$exists': True, '$ne': None } }, { 'embeddings': { '$exists': False } } ] }\n",
    "\n",
    "# Creates embeddings for subset of the collection\n",
    "updated_doc_count = 0\n",
    "for document in collection.find(filter).limit(50):\n",
    "    text = document['summary']\n",
    "    embedding = get_embedding(text)\n",
    "    collection.update_one({ '_id': document['_id'] }, { \"$set\": { 'embeddings': embedding } }, upsert=True)\n",
    "    updated_doc_count += 1\n",
    "\n",
    "print(\"Documents updated: {}\".format(updated_doc_count))"
   ]
  },
  {
   "cell_type": "code",
   "execution_count": null,
   "metadata": {},
   "outputs": [],
   "source": [
    "from pymongo.operations import SearchIndexModel\n",
    "\n",
    "# Create your index model, then create the search index\n",
    "search_index_model = SearchIndexModel(\n",
    "  definition = {\n",
    "    \"fields\": [\n",
    "      {\n",
    "        \"type\": \"vector\",\n",
    "        \"numDimensions\": 1024,\n",
    "        \"path\": \"embeddings\",\n",
    "        \"similarity\": \"cosine\"\n",
    "      }\n",
    "    ]\n",
    "  },\n",
    "  name = \"vector_index\",\n",
    "  type = \"vectorSearch\"\n",
    ")\n",
    "\n",
    "collection.create_search_index(model=search_index_model)\n"
   ]
  },
  {
   "cell_type": "code",
   "execution_count": null,
   "metadata": {},
   "outputs": [],
   "source": [
    "# Function to get the results of a vector search query\n",
    "def get_query_results(query):\n",
    "   query_embedding = get_embedding(query)\n",
    "\n",
    "   pipeline = [\n",
    "      {\n",
    "            \"$vectorSearch\": {\n",
    "               \"index\": \"vector_index\",\n",
    "               \"queryVector\": query_embedding,\n",
    "               \"path\": \"embeddings\",\n",
    "               \"exact\": True,\n",
    "               \"limit\": 5\n",
    "            }\n",
    "      }, {\n",
    "            \"$project\": {\n",
    "               \"_id\": 0,\n",
    "               \"summary\": 1,\n",
    "               \"listing_url\": 1,\n",
    "               \"score\": {\n",
    "                  \"$meta\": \"vectorSearchScore\"\n",
    "               }\n",
    "            }\n",
    "      }\n",
    "   ]\n",
    "\n",
    "   results = collection.aggregate(pipeline)\n",
    "\n",
    "   array_of_results = []\n",
    "   for doc in results:\n",
    "      array_of_results.append(doc)\n",
    "   return array_of_results"
   ]
  },
  {
   "cell_type": "code",
   "execution_count": null,
   "metadata": {},
   "outputs": [],
   "source": [
    "import pprint\n",
    "pprint.pprint(get_query_results(\"beach house\"))"
   ]
  },
  {
   "cell_type": "code",
   "execution_count": null,
   "metadata": {},
   "outputs": [],
   "source": [
    "from gpt4all import GPT4All\n",
    "\n",
    "# Download the model and move it to the same directory as this notebook\n",
    "# For complete details, refer to the documentation page\n",
    "local_llm_path = \"./mistral-7b-openorca.gguf2.Q4_0.gguf\"\n",
    "local_llm = GPT4All(local_llm_path)"
   ]
  },
  {
   "cell_type": "code",
   "execution_count": null,
   "metadata": {},
   "outputs": [],
   "source": [
    "question = \"Can you recommend a few AirBnBs that are beach houses? Include a link to the listing.\"\n",
    "documents = get_query_results(question)\n",
    "\n",
    "text_documents = \"\"\n",
    "for doc in documents:\n",
    "    summary = doc.get(\"summary\", \"\")\n",
    "    link = doc.get(\"listing_url\", \"\")\n",
    "    string = f\"Summary: {summary} Link: {link}. \\n\"\n",
    "    text_documents += string\n",
    "\n",
    "prompt = f\"\"\"Use the following pieces of context to answer the question at the end.\n",
    "    {text_documents}\n",
    "    Question: {question}\n",
    "\"\"\"\n",
    "\n",
    "response = local_llm.generate(prompt)\n",
    "cleaned_response = response.replace('\\\\n', '\\n')\n",
    "print(cleaned_response)"
   ]
  }
 ],
 "metadata": {
  "kernelspec": {
   "display_name": "jupyter",
   "language": "python",
   "name": "python3"
  },
  "language_info": {
   "codemirror_mode": {
    "name": "ipython",
    "version": 3
   },
   "file_extension": ".py",
   "mimetype": "text/x-python",
   "name": "python",
   "nbconvert_exporter": "python",
   "pygments_lexer": "ipython3",
   "version": "3.12.3"
  }
 },
 "nbformat": 4,
 "nbformat_minor": 2
}
